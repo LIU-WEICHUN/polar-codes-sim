{
 "cells": [
  {
   "cell_type": "code",
   "execution_count": 1,
   "metadata": {},
   "outputs": [],
   "source": [
    "exec(open(\"polar_snr0622.py\").read())"
   ]
  },
  {
   "cell_type": "code",
   "execution_count": 3,
   "metadata": {},
   "outputs": [
    {
     "data": {
      "text/plain": [
       "[<matplotlib.lines.Line2D at 0x7fc371e58438>]"
      ]
     },
     "execution_count": 3,
     "metadata": {},
     "output_type": "execute_result"
    },
    {
     "data": {
      "image/png": "[encoded data removed]",
      "text/plain": [
       "<Figure size 432x288 with 1 Axes>"
      ]
     },
     "metadata": {
      "needs_background": "light"
     },
     "output_type": "display_data"
    }
   ],
   "source": [
    "import matplotlib.pyplot as plt\n",
    "\n",
    "plt.grid()\n",
    "plt.xlabel(\"index\");\n",
    "plt.ylabel(\"capacity\");\n",
    "plt.plot(a90thSNR_capacity_decode, '.')\n"
   ]
  },
  {
   "cell_type": "code",
   "execution_count": 11,
   "metadata": {},
   "outputs": [],
   "source": [
    "import numpy as np"
   ]
  },
  {
   "cell_type": "code",
   "execution_count": 34,
   "metadata": {},
   "outputs": [],
   "source": [
    "x_db = np.linspace(-20, 10, 100)\n",
    "snr_v = np.power(10, x_db/10)"
   ]
  },
  {
   "cell_type": "code",
   "execution_count": 40,
   "metadata": {},
   "outputs": [],
   "source": [
    "def cap(snr):\n",
    "    rx = -1 + np.random.rand(1000)\n",
    "    channel_llr = 2*rx*snr;\n",
    "    information = np.log2(1+np.exp(channel_llr));\n",
    "    capacity = 1 - np.mean(information);\n",
    "    return capacity"
   ]
  },
  {
   "cell_type": "code",
   "execution_count": 41,
   "metadata": {},
   "outputs": [],
   "source": [
    "capacity = [cap(snr) for snr in snr_v]"
   ]
  },
  {
   "cell_type": "code",
   "execution_count": 42,
   "metadata": {
    "collapsed": true,
    "jupyter": {
     "outputs_hidden": true
    }
   },
   "outputs": [
    {
     "data": {
      "text/plain": [
       "[0.007293200536483302,\n",
       " 0.007814113975788017,\n",
       " 0.008411518140786,\n",
       " 0.008500450975649443,\n",
       " 0.009427527818739234,\n",
       " 0.010025156263431811,\n",
       " 0.010619453461130579,\n",
       " 0.011433588376180026,\n",
       " 0.012178848738331416,\n",
       " 0.013238318308315344,\n",
       " 0.014811896580264827,\n",
       " 0.015261565446559877,\n",
       " 0.01701713793879367,\n",
       " 0.017495944545217967,\n",
       " 0.018812618292561867,\n",
       " 0.020217931696575042,\n",
       " 0.021741666167034324,\n",
       " 0.023369395352311084,\n",
       " 0.025631939140492666,\n",
       " 0.026620508497557926,\n",
       " 0.029099290391179533,\n",
       " 0.030481297334527646,\n",
       " 0.03302351212759713,\n",
       " 0.03469803354420764,\n",
       " 0.036288390275082794,\n",
       " 0.040307717280491207,\n",
       " 0.04217897108351121,\n",
       " 0.047242028373609246,\n",
       " 0.050633010701450876,\n",
       " 0.05510388001127575,\n",
       " 0.0584322443494113,\n",
       " 0.06026990899052753,\n",
       " 0.06521934377700611,\n",
       " 0.0670479940383295,\n",
       " 0.07368658108683324,\n",
       " 0.079737453963029,\n",
       " 0.08687418094696231,\n",
       " 0.09197555466596385,\n",
       " 0.09869267732824205,\n",
       " 0.10379665435544405,\n",
       " 0.10842869312874903,\n",
       " 0.1243812510132295,\n",
       " 0.1262073115745307,\n",
       " 0.13382210990026355,\n",
       " 0.14234499721211114,\n",
       " 0.15427436350339518,\n",
       " 0.16088775886786988,\n",
       " 0.1778053944230904,\n",
       " 0.1889329263910624,\n",
       " 0.1892810494596343,\n",
       " 0.2126900790280103,\n",
       " 0.21973897519274466,\n",
       " 0.242828232537056,\n",
       " 0.2509196267713779,\n",
       " 0.27012521824528535,\n",
       " 0.2887951590163179,\n",
       " 0.2984125085233317,\n",
       " 0.3105901518411601,\n",
       " 0.32408992279717663,\n",
       " 0.3552465564358779,\n",
       " 0.3739833576595565,\n",
       " 0.3993237509990917,\n",
       " 0.41958051200601065,\n",
       " 0.432706378957198,\n",
       " 0.4546662683586423,\n",
       " 0.47169944012286924,\n",
       " 0.5089584074588422,\n",
       " 0.5204548708609193,\n",
       " 0.5331640397359984,\n",
       " 0.5618528767674718,\n",
       " 0.5836455241978027,\n",
       " 0.6007283346152719,\n",
       " 0.6350874315545383,\n",
       " 0.6610589546555383,\n",
       " 0.6853295492579243,\n",
       " 0.6967433679756998,\n",
       " 0.7165017036625669,\n",
       " 0.7184214469967365,\n",
       " 0.7400988159705296,\n",
       " 0.7641685268431361,\n",
       " 0.7702854434060862,\n",
       " 0.798174456225546,\n",
       " 0.7997696459487111,\n",
       " 0.8145085756004614,\n",
       " 0.8311783438671994,\n",
       " 0.832162643315006,\n",
       " 0.8561489471427891,\n",
       " 0.8736427913607017,\n",
       " 0.8725364006307312,\n",
       " 0.8857313459951369,\n",
       " 0.88022890982485,\n",
       " 0.8986614915466794,\n",
       " 0.9008964327742474,\n",
       " 0.917978401641961,\n",
       " 0.9193527932472594,\n",
       " 0.9249548469570795,\n",
       " 0.9230730964711295,\n",
       " 0.9327501060272598,\n",
       " 0.9332104832130689,\n",
       " 0.9458914151746867]"
      ]
     },
     "execution_count": 42,
     "metadata": {},
     "output_type": "execute_result"
    }
   ],
   "source": [
    "capacity"
   ]
  },
  {
   "cell_type": "code",
   "execution_count": 4,
   "metadata": {},
   "outputs": [],
   "source": [
    "data = []\n",
    "for i in range(100):\n",
    "    exec(\"y = a\"+str(i)+\"thSNR_capacity_decode\")\n",
    "    data.append(y)"
   ]
  },
  {
   "cell_type": "code",
   "execution_count": 45,
   "metadata": {},
   "outputs": [
    {
     "data": {
      "image/png": "[encoded data removed]",
      "text/plain": [
       "<Figure size 432x288 with 1 Axes>"
      ]
     },
     "metadata": {
      "needs_background": "light"
     },
     "output_type": "display_data"
    }
   ],
   "source": [
    "from matplotlib.animation import FuncAnimation, PillowWriter  \n",
    "fig, ax = plt.subplots()\n",
    "pp, = plt.plot([],[], '.',)\n",
    "cc, = plt.plot([],[], 'r.')\n",
    "def init():  \n",
    "    ax.set_xlim(0, 1030)  \n",
    "    ax.set_ylim(0, 1) \n",
    "\n",
    "def update(i): \n",
    "    pp.set_data(list(range(len(data[i]))),list(data[i]))\n",
    "    cc.set_data(list(range(len(data[i]))), capacity[i]*np.ones_like(data[i]) )\n",
    "                \n",
    "ani = FuncAnimation(fig, update, range(100), init_func=init)  "
   ]
  },
  {
   "cell_type": "code",
   "execution_count": 46,
   "metadata": {},
   "outputs": [],
   "source": [
    "writer = PillowWriter(fps=10)  \n",
    "ani.save(\"dedd.gif\", writer=writer) \n",
    " \n"
   ]
  },
  {
   "cell_type": "code",
   "execution_count": null,
   "metadata": {},
   "outputs": [],
   "source": []
  },
  {
   "cell_type": "code",
   "execution_count": null,
   "metadata": {},
   "outputs": [],
   "source": []
  },
  {
   "cell_type": "code",
   "execution_count": null,
   "metadata": {},
   "outputs": [],
   "source": []
  },
  {
   "cell_type": "code",
   "execution_count": null,
   "metadata": {},
   "outputs": [],
   "source": []
  },
  {
   "cell_type": "code",
   "execution_count": null,
   "metadata": {},
   "outputs": [],
   "source": []
  },
  {
   "cell_type": "code",
   "execution_count": null,
   "metadata": {},
   "outputs": [],
   "source": []
  },
  {
   "cell_type": "code",
   "execution_count": null,
   "metadata": {},
   "outputs": [],
   "source": []
  },
  {
   "cell_type": "code",
   "execution_count": null,
   "metadata": {},
   "outputs": [],
   "source": []
  },
  {
   "cell_type": "code",
   "execution_count": 47,
   "metadata": {},
   "outputs": [
    {
     "data": {
      "image/png": "[encoded data removed]",
      "text/plain": [
       "<Figure size 432x288 with 1 Axes>"
      ]
     },
     "metadata": {
      "needs_background": "light"
     },
     "output_type": "display_data"
    }
   ],
   "source": [
    "fig, ax = plt.subplots()  \n",
    "x, ysin, ycos = [], [], []  \n",
    "ln1, = plt.plot([], [], 'ro')  \n",
    "ln2, = plt.plot([], [], 'm*')\n",
    "\n",
    "\n",
    "def init():  \n",
    "    ax.set_xlim(0, 2*np.pi)  \n",
    "    ax.set_ylim(-1, 1)  \n",
    "\n",
    "def update(i):  \n",
    "    x.append(i)  \n",
    "    ysin.append(np.sin(i))  \n",
    "    ycos.append(np.cos(i))  \n",
    "    ln1.set_data(x, ysin)  \n",
    "    ln2.set_data(x, ycos) \n",
    "    \n",
    "ani = FuncAnimation(fig, update, np.linspace(0, 2*np.pi, 64), init_func=init) \n",
    "plt.show()"
   ]
  },
  {
   "cell_type": "code",
   "execution_count": 62,
   "metadata": {},
   "outputs": [],
   "source": [
    "exec(\"t = a\"+str(99)+\"thSNR_capacity_decode\")"
   ]
  },
  {
   "cell_type": "code",
   "execution_count": null,
   "metadata": {},
   "outputs": [],
   "source": []
  }
 ],
 "metadata": {
  "kernelspec": {
   "display_name": "Python 3",
   "language": "python",
   "name": "python3"
  },
  "language_info": {
   "codemirror_mode": {
    "name": "ipython",
    "version": 3
   },
   "file_extension": ".py",
   "mimetype": "text/x-python",
   "name": "python",
   "nbconvert_exporter": "python",
   "pygments_lexer": "ipython3",
   "version": "3.6.9"
  }
 },
 "nbformat": 4,
 "nbformat_minor": 4
}
